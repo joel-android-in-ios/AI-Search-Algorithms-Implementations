{
  "nbformat": 4,
  "nbformat_minor": 0,
  "metadata": {
    "colab": {
      "provenance": [],
      "collapsed_sections": [],
      "authorship_tag": "ABX9TyOg/nMW8ViMN1fRiNn9bcHz",
      "include_colab_link": true
    },
    "kernelspec": {
      "name": "python3",
      "display_name": "Python 3"
    },
    "language_info": {
      "name": "python"
    }
  },
  "cells": [
    {
      "cell_type": "markdown",
      "metadata": {
        "id": "view-in-github",
        "colab_type": "text"
      },
      "source": [
        "<a href=\"https://colab.research.google.com/github/joel-android-in-ios/AI-Search-Algorithms-Implementations/blob/master/Deep_learning2.ipynb\" target=\"_parent\"><img src=\"https://colab.research.google.com/assets/colab-badge.svg\" alt=\"Open In Colab\"/></a>"
      ]
    },
    {
      "cell_type": "code",
      "execution_count": 15,
      "metadata": {
        "id": "FHY2h9aoJ9_d"
      },
      "outputs": [],
      "source": [
        "def NXOR():\n",
        "  a=int(input(\"Enter the 1st input: \"))\n",
        "  b=int(input(\"Enter the 2nd input: \"))\n",
        "  def complement(a):\n",
        "    if a==0:\n",
        "      return 1\n",
        "    elif a==1:\n",
        "      return 0\n",
        "    else:\n",
        "      print(\"Wrong input!!!\")\n",
        "  a_c=complement(a)\n",
        "  b_c=complement(b)\n",
        "  out=(a*b_c)+(a_c*b)\n",
        "  print(\"Output is: \",complement(out))\n"
      ]
    },
    {
      "cell_type": "code",
      "source": [
        "NXOR()"
      ],
      "metadata": {
        "colab": {
          "base_uri": "https://localhost:8080/"
        },
        "id": "Q5buAXyhKfbJ",
        "outputId": "dd88d16e-3d79-4c17-92c7-0ba025bc2066"
      },
      "execution_count": 16,
      "outputs": [
        {
          "output_type": "stream",
          "name": "stdout",
          "text": [
            "Enter the 1st input: 1\n",
            "Enter the 2nd input: 1\n",
            "Output is:  1\n"
          ]
        }
      ]
    },
    {
      "cell_type": "code",
      "source": [
        "1"
      ],
      "metadata": {
        "id": "mS-tpO6zL-Tb"
      },
      "execution_count": null,
      "outputs": []
    }
  ]
}